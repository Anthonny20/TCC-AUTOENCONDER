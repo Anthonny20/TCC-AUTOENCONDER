{
 "cells": [
  {
   "cell_type": "markdown",
   "metadata": {},
   "source": [
    "Autoencoder Linear(Denso)"
   ]
  },
  {
   "cell_type": "code",
   "execution_count": 1,
   "metadata": {},
   "outputs": [],
   "source": [
    "import torch\n",
    "import torch.nn as nn\n",
    "import torch.optim as optim\n",
    "from torchvision import datasets, transforms\n",
    "from torch.utils.data import DataLoader\n",
    "import matplotlib.pyplot as plt"
   ]
  },
  {
   "cell_type": "markdown",
   "metadata": {},
   "source": [
    "Definindo o modelo"
   ]
  },
  {
   "cell_type": "code",
   "execution_count": 2,
   "metadata": {},
   "outputs": [],
   "source": [
    "class LinearAE(nn.Module):\n",
    "    def __init__(self, input_dim, latent_dim):\n",
    "        super().__init__()\n",
    "        self.encoder = nn.Sequential(\n",
    "            nn.Linear(input_dim, 512),\n",
    "            nn.ReLU(),\n",
    "            nn.Linear(512, 256),\n",
    "            nn.ReLU(),\n",
    "            nn.Linear(256, latent_dim)\n",
    "        )\n",
    "        self.decoder = nn.Sequential(\n",
    "            nn.Linear(latent_dim, 256),\n",
    "            nn.ReLU(),\n",
    "            nn.Linear(256, 512),\n",
    "            nn.ReLU(),\n",
    "            nn.Linear(512, input_dim),\n",
    "            nn.Sigmoid()\n",
    "        )\n",
    "\n",
    "    def forward(self, x):\n",
    "        latent = self.encoder(x)\n",
    "        reconstructed = self.decoder(latent)\n",
    "        return reconstructed\n"
   ]
  },
  {
   "cell_type": "markdown",
   "metadata": {},
   "source": [
    "Função de treinamento"
   ]
  },
  {
   "cell_type": "code",
   "execution_count": 3,
   "metadata": {},
   "outputs": [],
   "source": [
    "def train(model, train_loader, epochs=50, lr=1e-3):\n",
    "    optimizer = optim.Adam(model.parameters(), lr=lr)\n",
    "    criterion = nn.MSELoss()\n",
    "    for epoch in range(epochs):\n",
    "        for batch in train_loader:\n",
    "            x, _ = batch\n",
    "            x = x.view(x.size(0), -1)  # Achata as imagens\n",
    "            reconstructed = model(x)\n",
    "            loss = criterion(reconstructed, x)\n",
    "            \n",
    "            optimizer.zero_grad()\n",
    "            loss.backward()\n",
    "            optimizer.step()\n",
    "        print(f\"Epoch [{epoch+1}/{epochs}], Loss: {loss.item():.4f}\")\n"
   ]
  },
  {
   "cell_type": "markdown",
   "metadata": {},
   "source": [
    "Carregando o MNIST"
   ]
  },
  {
   "cell_type": "code",
   "execution_count": 4,
   "metadata": {},
   "outputs": [
    {
     "name": "stderr",
     "output_type": "stream",
     "text": [
      "100.0%\n",
      "100.0%\n",
      "100.0%\n",
      "100.0%\n"
     ]
    }
   ],
   "source": [
    "transform = transforms.Compose([transforms.ToTensor()])\n",
    "train_data = datasets.MNIST(root='./data', train=True, download=True, transform=transform)\n",
    "train_loader = DataLoader(train_data, batch_size=64, shuffle=True)"
   ]
  },
  {
   "cell_type": "markdown",
   "metadata": {},
   "source": [
    "Instaciando e Treinando o Modelo"
   ]
  },
  {
   "cell_type": "code",
   "execution_count": 5,
   "metadata": {},
   "outputs": [
    {
     "name": "stdout",
     "output_type": "stream",
     "text": [
      "Epoch [1/50], Loss: 0.0175\n",
      "Epoch [2/50], Loss: 0.0130\n",
      "Epoch [3/50], Loss: 0.0098\n",
      "Epoch [4/50], Loss: 0.0082\n",
      "Epoch [5/50], Loss: 0.0075\n",
      "Epoch [6/50], Loss: 0.0069\n",
      "Epoch [7/50], Loss: 0.0074\n",
      "Epoch [8/50], Loss: 0.0055\n",
      "Epoch [9/50], Loss: 0.0066\n",
      "Epoch [10/50], Loss: 0.0042\n",
      "Epoch [11/50], Loss: 0.0061\n",
      "Epoch [12/50], Loss: 0.0064\n",
      "Epoch [13/50], Loss: 0.0058\n",
      "Epoch [14/50], Loss: 0.0046\n",
      "Epoch [15/50], Loss: 0.0051\n",
      "Epoch [16/50], Loss: 0.0050\n",
      "Epoch [17/50], Loss: 0.0058\n",
      "Epoch [18/50], Loss: 0.0052\n",
      "Epoch [19/50], Loss: 0.0060\n",
      "Epoch [20/50], Loss: 0.0044\n",
      "Epoch [21/50], Loss: 0.0043\n",
      "Epoch [22/50], Loss: 0.0059\n",
      "Epoch [23/50], Loss: 0.0038\n",
      "Epoch [24/50], Loss: 0.0045\n",
      "Epoch [25/50], Loss: 0.0043\n",
      "Epoch [26/50], Loss: 0.0045\n",
      "Epoch [27/50], Loss: 0.0047\n",
      "Epoch [28/50], Loss: 0.0046\n",
      "Epoch [29/50], Loss: 0.0043\n",
      "Epoch [30/50], Loss: 0.0047\n",
      "Epoch [31/50], Loss: 0.0042\n",
      "Epoch [32/50], Loss: 0.0048\n",
      "Epoch [33/50], Loss: 0.0047\n",
      "Epoch [34/50], Loss: 0.0043\n",
      "Epoch [35/50], Loss: 0.0043\n",
      "Epoch [36/50], Loss: 0.0037\n",
      "Epoch [37/50], Loss: 0.0041\n",
      "Epoch [38/50], Loss: 0.0039\n",
      "Epoch [39/50], Loss: 0.0042\n",
      "Epoch [40/50], Loss: 0.0042\n",
      "Epoch [41/50], Loss: 0.0040\n",
      "Epoch [42/50], Loss: 0.0042\n",
      "Epoch [43/50], Loss: 0.0036\n",
      "Epoch [44/50], Loss: 0.0038\n",
      "Epoch [45/50], Loss: 0.0036\n",
      "Epoch [46/50], Loss: 0.0041\n",
      "Epoch [47/50], Loss: 0.0042\n",
      "Epoch [48/50], Loss: 0.0039\n",
      "Epoch [49/50], Loss: 0.0043\n",
      "Epoch [50/50], Loss: 0.0037\n"
     ]
    }
   ],
   "source": [
    "input_dim = 28 * 28  # Tamanho das imagens do MNIST\n",
    "latent_dim = 32\n",
    "model = LinearAE(input_dim, latent_dim)\n",
    "train(model, train_loader)"
   ]
  },
  {
   "cell_type": "markdown",
   "metadata": {},
   "source": [
    "Exportando o Modelo Treinado"
   ]
  },
  {
   "cell_type": "code",
   "execution_count": 8,
   "metadata": {},
   "outputs": [
    {
     "name": "stdout",
     "output_type": "stream",
     "text": [
      "Modelo Linear AE salvo como 'linear_ae.pth'\n"
     ]
    }
   ],
   "source": [
    "torch.save(model.state_dict(), 'linear_ae.pth')\n",
    "print(\"Modelo Linear AE salvo como 'linear_ae.pth'\")"
   ]
  },
  {
   "cell_type": "markdown",
   "metadata": {},
   "source": [
    "Visualizando as Reconstrulções"
   ]
  },
  {
   "cell_type": "code",
   "execution_count": 9,
   "metadata": {},
   "outputs": [
    {
     "data": {
      "image/png": "[encoded data removed]",
      "text/plain": [
       "<Figure size 2000x400 with 20 Axes>"
      ]
     },
     "metadata": {},
     "output_type": "display_data"
    }
   ],
   "source": [
    "def visualize_reconstructions(model, dataloader):\n",
    "    model.eval()\n",
    "    with torch.no_grad():\n",
    "        x, _ = next(iter(dataloader))\n",
    "        x = x.view(x.size(0), -1)\n",
    "        reconstructed = model(x)\n",
    "        \n",
    "        # Plotar imagens originais e reconstruídas\n",
    "        fig, axes = plt.subplots(2, 10, figsize=(20, 4))\n",
    "        for i in range(10):\n",
    "            axes[0, i].imshow(x[i].view(28, 28), cmap='gray')\n",
    "            axes[1, i].imshow(reconstructed[i].view(28, 28), cmap='gray')\n",
    "            axes[0, i].axis('off')\n",
    "            axes[1, i].axis('off')\n",
    "        plt.show()\n",
    "\n",
    "visualize_reconstructions(model, train_loader)"
   ]
  }
 ],
 "metadata": {
  "kernelspec": {
   "display_name": "Python 3",
   "language": "python",
   "name": "python3"
  },
  "language_info": {
   "codemirror_mode": {
    "name": "ipython",
    "version": 3
   },
   "file_extension": ".py",
   "mimetype": "text/x-python",
   "name": "python",
   "nbconvert_exporter": "python",
   "pygments_lexer": "ipython3",
   "version": "3.13.2"
  }
 },
 "nbformat": 4,
 "nbformat_minor": 2
}
